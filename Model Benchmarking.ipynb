{
 "cells": [
  {
   "cell_type": "markdown",
   "metadata": {},
   "source": [
    "# __Machine Learning for Prioritizing Blood Pressure Genes__ "
   ]
  },
  {
   "cell_type": "markdown",
   "metadata": {},
   "source": [
    "## Import modules:"
   ]
  },
  {
   "cell_type": "code",
   "execution_count": 1,
   "metadata": {},
   "outputs": [
    {
     "name": "stderr",
     "output_type": "stream",
     "text": [
      "C:\\Users\\Hannah\\Anaconda3\\envs\\tensorflow_environment\\lib\\site-packages\\sklearn\\utils\\deprecation.py:144: FutureWarning: The sklearn.neighbors.base module is  deprecated in version 0.22 and will be removed in version 0.24. The corresponding classes / functions should instead be imported from sklearn.neighbors. Anything that cannot be imported from sklearn.neighbors is now part of the private API.\n",
      "  warnings.warn(message, FutureWarning)\n"
     ]
    }
   ],
   "source": [
    "import pandas as pd\n",
    "import numpy as np\n",
    "from numpy import sort\n",
    "from scipy.stats import spearmanr\n",
    "from scipy.cluster import hierarchy\n",
    "\n",
    "import re\n",
    "regex = re.compile(r\"\\[|\\]|<\", re.IGNORECASE)\n",
    "\n",
    "from sklearn import datasets, metrics, preprocessing, model_selection\n",
    "from sklearn.preprocessing import MinMaxScaler,StandardScaler\n",
    "from sklearn.model_selection import train_test_split, KFold, StratifiedKFold, cross_val_score,  cross_validate, cross_val_predict, GridSearchCV, RandomizedSearchCV\n",
    "from sklearn.metrics import mean_squared_error, r2_score, explained_variance_score, mean_absolute_error, max_error\n",
    "from sklearn.datasets import make_classification, load_digits\n",
    "from sklearn.impute import SimpleImputer\n",
    "from sklearn.impute import KNNImputer\n",
    "\n",
    "from missingpy import MissForest\n",
    "\n",
    "from sklearn.utils import resample\n",
    "from sklearn.pipeline import Pipeline\n",
    "from sklearn.feature_selection import f_regression, mutual_info_regression, SelectFromModel \n",
    "\n",
    "from sklearn.cross_decomposition import PLSRegression\n",
    "from sys import stdout\n",
    "\n",
    "from sklearn.inspection import permutation_importance\n",
    "\n",
    "import shap\n",
    "\n",
    "import xgboost\n",
    "from sklearn.linear_model import LinearRegression\n",
    "from sklearn.linear_model import Lasso\n",
    "from sklearn.linear_model import ElasticNet\n",
    "from sklearn.tree import DecisionTreeRegressor\n",
    "from sklearn.neighbors import KNeighborsRegressor\n",
    "from sklearn.ensemble import GradientBoostingRegressor\n",
    "from sklearn.ensemble import RandomForestRegressor\n",
    "from sklearn.ensemble import VotingRegressor\n",
    "from sklearn.ensemble import StackingRegressor\n",
    "from sklearn.ensemble import BaggingRegressor\n",
    "\n",
    "\n",
    "import statsmodels.api as sm\n",
    "%matplotlib inline\n",
    "%config InlineBackend.figure_format ='retina'\n",
    "import statsmodels.stats.api as sms\n",
    "\n",
    "from boostaroota import BoostARoota\n",
    "\n",
    "import seaborn as sns\n",
    "sns.set_style('darkgrid')\n",
    "sns.mpl.rcParams['figure.figsize'] = (15.0, 9.0)\n",
    "\n",
    "import time\n",
    "import dask_ml.model_selection as dcv\n",
    "\n",
    "import matplotlib\n",
    "import matplotlib.pyplot as plt\n",
    "\n",
    "import lime\n",
    "import lime.lime_tabular\n",
    "from lime.lime_tabular import LimeTabularExplainer\n",
    "\n",
    "import warnings\n",
    "warnings.simplefilter(action='ignore', category=FutureWarning)\n",
    "from warnings import filterwarnings\n",
    "filterwarnings(\"ignore\")\n",
    "\n",
    "seed = 7"
   ]
  },
  {
   "cell_type": "markdown",
   "metadata": {},
   "source": [
    "# Load data:"
   ]
  },
  {
   "cell_type": "code",
   "execution_count": 18,
   "metadata": {},
   "outputs": [
    {
     "name": "stdout",
     "output_type": "stream",
     "text": [
      "(15021, 60)\n"
     ]
    }
   ],
   "source": [
    "dataset= pd.read_csv('BP_training.txt', header=0)\n",
    "data = dataset.drop([\"Gene\"],1)\n",
    "print(data.shape)"
   ]
  },
  {
   "cell_type": "markdown",
   "metadata": {},
   "source": [
    "# Data preprocessing\n",
    "1. Impute missing values by mean imputation for individual features\n",
    "2. Standardise each feature individually on a scale of 0-1\n",
    "3. Convert BP gene labeling to scores for regression\n",
    "4. Split into train and test datasets\n"
   ]
  },
  {
   "cell_type": "code",
   "execution_count": 19,
   "metadata": {},
   "outputs": [],
   "source": [
    "df1 = data.iloc[:,0:59]"
   ]
  },
  {
   "cell_type": "markdown",
   "metadata": {},
   "source": [
    "#### MissForest - Random forest imputation:"
   ]
  },
  {
   "cell_type": "code",
   "execution_count": 4,
   "metadata": {},
   "outputs": [
    {
     "name": "stdout",
     "output_type": "stream",
     "text": [
      "Iteration: 0\n",
      "Iteration: 1\n",
      "Iteration: 2\n"
     ]
    }
   ],
   "source": [
    "#Random forest imputer\n",
    "imputer = MissForest()\n",
    "df = imputer.fit_transform(df1)\n",
    "#Standardising features indiviudally on 0-1 scale\n",
    "X = MinMaxScaler().fit_transform(df)"
   ]
  },
  {
   "cell_type": "code",
   "execution_count": 5,
   "metadata": {},
   "outputs": [],
   "source": [
    "#Converting labels to scores\n",
    "data['BPCausality_encoded'] = data['BPCausality'].map( {'most likely':0.9, 'probable':0.7 , 'possible':0.40, 'least likely':0.1})\n",
    "Y = data[\"BPCausality_encoded\"] "
   ]
  },
  {
   "cell_type": "code",
   "execution_count": 6,
   "metadata": {},
   "outputs": [],
   "source": [
    "X_train, X_test, Y_train, Y_test = train_test_split(X, Y, test_size=0.2, random_state=0)"
   ]
  },
  {
   "cell_type": "markdown",
   "metadata": {},
   "source": [
    "# Building Models:\n",
    "- Parameter tuning with randomgridsearchCV and dask parallel processing"
   ]
  },
  {
   "cell_type": "code",
   "execution_count": 20,
   "metadata": {},
   "outputs": [],
   "source": [
    "lasso = Lasso(random_state=seed)\n",
    "lasso_params =  {\"alpha\": [0.0001, 0.001, 0.01, 0.1, 1, 10, 100],\n",
    "                \"max_iter\": [100, 500, 1000]}\n",
    "\n",
    "elastic = ElasticNet(random_state=seed, tol=1)\n",
    "elastic_params = {\n",
    "    \"max_iter\": [1000, 2500, 5000],\n",
    "    \"alpha\": [0.0001, 0.001, 0.01, 0.1, 1, 10, 100],\n",
    "    \"l1_ratio\": np.arange(0.0, 1.0, 0.1)}\n",
    "\n",
    "dt = DecisionTreeRegressor(random_state=seed)\n",
    "dt_params= {\"criterion\": [\"mse\", \"mae\"],\n",
    "              \"min_samples_split\": [10, 20, 40],\n",
    "              \"max_depth\": [2, 6, 8],\n",
    "              \"min_samples_leaf\": [20, 40, 100],\n",
    "              \"max_leaf_nodes\": [5, 20, 100],\n",
    "              }\n",
    "\n",
    "gbr = GradientBoostingRegressor(random_state=seed)\n",
    "gbr_params = {\n",
    "    \"learning_rate\": [0.001, 0.01, 0.1],\n",
    "    \"min_samples_split\": [50, 100],\n",
    "    \"min_samples_leaf\": [50, 100],\n",
    "    \"max_depth\":[5, 10, 20]}\n",
    "    \n",
    "xgbr = xgboost.XGBRegressor(random_state=seed, objective='reg:squarederror') \n",
    "xgbr_params = {  \n",
    "    \"learning_rate\": [0.001, 0.01, 0.1],\n",
    "    \"min_samples_leaf\": [50, 100],\n",
    "    \"max_depth\":[5, 10, 20],\n",
    "    'reg_alpha': [1.1, 1.2, 1.3],\n",
    "    'reg_lambda': [1.1, 1.2, 1.3]}\n",
    "    \n",
    "rfr = RandomForestRegressor(random_state=seed)\n",
    "rfr_params={'n_estimators':[100, 500, 1000], \n",
    "             'min_samples_split': [50, 100],\n",
    "             'min_samples_leaf': [50, 100],} \n",
    "\n",
    "knr = KNeighborsRegressor()\n",
    "knr_params = {\n",
    "    'n_neighbors':[7,9,11,13,15,17],\n",
    "    'weights' : ['uniform','distance'],\n",
    "    'metric' : ['euclidean','manhattan']}\n",
    "\n",
    "inner_cv = KFold(n_splits=5, shuffle=True, random_state=seed)\n",
    "outer_cv = KFold(n_splits=5, shuffle=True, random_state=seed)\n",
    "\n",
    "models = []\n",
    "\n",
    "models.append(('XGBR', dcv.RandomizedSearchCV(xgbr, xgbr_params, cv=inner_cv, iid=False, n_jobs=-1))) \n",
    "models.append(('GBR', dcv.RandomizedSearchCV(gbr, gbr_params, cv=inner_cv,iid=False, n_jobs=-1)))\n",
    "models.append(('RFR', dcv.RandomizedSearchCV(rfr, rfr_params, cv=inner_cv,iid=False, n_jobs=-1)))\n",
    "models.append(('DT', dcv.RandomizedSearchCV(dt, dt_params, cv=inner_cv, iid=False, n_jobs=-1)))\n",
    "models.append(('KNR', dcv.RandomizedSearchCV(knr, knr_params, cv=inner_cv, iid=False, n_jobs=-1)))\n",
    "models.append(('Lasso', dcv.RandomizedSearchCV(lasso, lasso_params, cv=inner_cv, iid=False, n_jobs=-1)))\n",
    "models.append(('ElasticNet', dcv.RandomizedSearchCV(elastic, elastic_params, cv=inner_cv, iid=False, n_jobs=-1)))\n",
    "\n",
    "results = []\n",
    "names = []\n",
    "scoring = ['r2', 'neg_mean_squared_error', 'max_error', 'neg_mean_absolute_error'] #https://scikit-learn.org/stable/modules/model_evaluation.html\n"
   ]
  },
  {
   "cell_type": "code",
   "execution_count": 21,
   "metadata": {},
   "outputs": [
    {
     "name": "stdout",
     "output_type": "stream",
     "text": [
      "XGBR Nested CV results for all scores: \n",
      " {'fit_time': array([110.90895247, 105.54169369, 153.41087675, 124.73115087,\n",
      "       146.7573626 ]), 'score_time': array([0.0368607 , 0.05027509, 0.02208972, 0.02022266, 0.01495934]), 'test_r2': array([0.65916768, 0.81294171, 0.71140515, 0.72134827, 0.79021877]), 'test_neg_mean_squared_error': array([-0.00116484, -0.00095891, -0.00116795, -0.00185935, -0.00126645]), 'test_max_error': array([-0.74041381, -0.49793365, -0.62205925, -0.77243384, -0.56047053]), 'test_neg_mean_absolute_error': array([-0.00653283, -0.00565459, -0.0067845 , -0.00805052, -0.00587795])} \n",
      "\n",
      "XGBR r2 Nested CV Average 0.7390163147777429\n",
      "XGBR MSE Nested CV Average -0.0012835016236985664\n",
      "Best Parameters: \n",
      "{'reg_lambda': 1.3, 'reg_alpha': 1.3, 'min_samples_leaf': 50, 'max_depth': 5, 'learning_rate': 0.1}\n",
      "\n",
      "Non-nested CV Results:\n",
      "XGBR Train r2: 0.9220295999338871 Test r2: 0.7191426163655193\n",
      "XGBR Train MSE: 0.00040467924029704926 Test MSE: 0.001280073557755515\n",
      "XGBR Train Explained Variance Score: 0.9220326015538344 Test Explained Variance Score: 0.7191566720898124\n",
      "XGBR Train MAE: 0.0045584819990159234 Test MAE: 0.006828066034967834\n",
      "XGBR Train Max Error: 0.43369568586349483 Test Max Error: 0.7455962538719177\n",
      "\n",
      "\n",
      "GBR Nested CV results for all scores: \n",
      " {'fit_time': array([ 458.58666301,  859.27470517, 1294.18286538, 1025.39977264,\n",
      "        772.0261755 ]), 'score_time': array([0.02008319, 0.05344892, 0.05547738, 0.01992822, 0.01296616]), 'test_r2': array([0.61121137, 0.6816924 , 0.6243856 , 0.71054558, 0.73709718]), 'test_neg_mean_squared_error': array([-0.00132874, -0.00163173, -0.00152013, -0.00193143, -0.00158715]), 'test_max_error': array([-0.72227762, -0.56967331, -0.60703058, -0.78038495, -0.57194815]), 'test_neg_mean_absolute_error': array([-0.00852314, -0.01269041, -0.01033252, -0.01059646, -0.00928531])} \n",
      "\n",
      "GBR r2 Nested CV Average 0.6729864249934893\n",
      "GBR MSE Nested CV Average -0.001599835078711026\n",
      "Best Parameters: \n",
      "{'min_samples_split': 100, 'min_samples_leaf': 100, 'max_depth': 20, 'learning_rate': 0.1}\n",
      "\n",
      "Non-nested CV Results:\n",
      "GBR Train r2: 0.8053947570699904 Test r2: 0.6042922322304983\n",
      "GBR Train MSE: 0.0010100333177713958 Test MSE: 0.0018035311857046443\n",
      "GBR Train Explained Variance Score: 0.8053947570699904 Test Explained Variance Score: 0.6043475117967629\n",
      "GBR Train MAE: 0.009468323463417645 Test MAE: 0.01239853137456081\n",
      "GBR Train Max Error: 0.5190291186378544 Test Max Error: 0.6945812688670896\n",
      "\n",
      "\n",
      "RFR Nested CV results for all scores: \n",
      " {'fit_time': array([2944.96750784, 3009.73112774, 2247.19472098, 1702.62961626,\n",
      "       2287.5035553 ]), 'score_time': array([0.27389193, 0.16954684, 0.17871499, 0.06063414, 0.0181253 ]), 'test_r2': array([0.41697873, 0.46846215, 0.36093696, 0.47685692, 0.49268999]), 'test_neg_mean_squared_error': array([-0.00199256, -0.00272481, -0.00258631, -0.00349075, -0.00306264]), 'test_max_error': array([-0.74593729, -0.71630404, -0.71206279, -0.79718971, -0.70973492]), 'test_neg_mean_absolute_error': array([-0.00796496, -0.01045918, -0.01020969, -0.01136693, -0.01032731])} \n",
      "\n",
      "RFR r2 Nested CV Average 0.4431849486238383\n",
      "RFR MSE Nested CV Average -0.002771413960482696\n",
      "Best Parameters: \n",
      "{'n_estimators': 1000, 'min_samples_split': 50, 'min_samples_leaf': 50}\n",
      "\n",
      "Non-nested CV Results:\n",
      "RFR Train r2: 0.5404183719849934 Test r2: 0.4436420273398346\n",
      "RFR Train MSE: 0.0023853044735168047 Test MSE: 0.002535732264655725\n",
      "RFR Train Explained Variance Score: 0.5404189954337626 Test Explained Variance Score: 0.4436863934863684\n",
      "RFR Train MAE: 0.00932633217577393 Test MAE: 0.009209995373935352\n",
      "RFR Train Max Error: 0.7772215847612176 Test Max Error: 0.7485795878808122\n",
      "\n",
      "\n",
      "DT Nested CV results for all scores: \n",
      " {'fit_time': array([458.63169956, 496.55648112, 544.37501907, 317.84029746,\n",
      "       416.20324016]), 'score_time': array([0.00810075, 0.00708842, 0.00906444, 0.        , 0.01037288]), 'test_r2': array([0.47786265, 0.56372743, 0.49983625, 0.56041342, 0.33866058]), 'test_neg_mean_squared_error': array([-0.00178448, -0.00223645, -0.00202418, -0.00293321, -0.00399251]), 'test_max_error': array([-0.8       , -0.73173077, -0.79754011, -0.8       , -0.79771467]), 'test_neg_mean_absolute_error': array([-0.0054254 , -0.0069326 , -0.0057546 , -0.00724697, -0.01145721])} \n",
      "\n",
      "DT r2 Nested CV Average 0.4881000671169088\n",
      "DT MSE Nested CV Average -0.0025941674945565547\n",
      "Best Parameters: \n",
      "{'min_samples_split': 20, 'min_samples_leaf': 20, 'max_leaf_nodes': 100, 'max_depth': 8, 'criterion': 'mse'}\n",
      "\n",
      "Non-nested CV Results:\n",
      "DT Train r2: 0.74582341350456 Test r2: 0.4356389939741222\n",
      "DT Train MSE: 0.0013192184192598031 Test MSE: 0.002572207970797801\n",
      "DT Train Explained Variance Score: 0.7458234135045602 Test Explained Variance Score: 0.4357735078567885\n",
      "DT Train MAE: 0.004606565436398392 Test MAE: 0.0065730103544825004\n",
      "DT Train Max Error: 0.76 Test Max Error: 0.7999999999999992\n",
      "\n",
      "\n",
      "KNR Nested CV results for all scores: \n",
      " {'fit_time': array([54.6014595 , 67.93211007, 52.6144104 , 66.35587168, 65.45226026]), 'score_time': array([5.59515214, 5.51367354, 3.95789719, 7.85220742, 6.8202641 ]), 'test_r2': array([ 0.00293011,  0.04081879, -0.00535233,  0.02243725,  0.01201137]), 'test_neg_mean_squared_error': array([-0.00340763, -0.00491703, -0.0040687 , -0.00652294, -0.0059645 ]), 'test_max_error': array([-0.8, -0.8, -0.8, -0.8, -0.8]), 'test_neg_mean_absolute_error': array([-0.00947409, -0.0121186 , -0.01069739, -0.01329022, -0.01265628])} \n",
      "\n",
      "KNR r2 Nested CV Average 0.014569036903429788\n",
      "KNR MSE Nested CV Average -0.004976158509907715\n",
      "Best Parameters: \n",
      "{'weights': 'distance', 'n_neighbors': 17, 'metric': 'manhattan'}\n",
      "\n",
      "Non-nested CV Results:\n",
      "KNR Train r2: 1.0 Test r2: 0.011308732577729241\n",
      "KNR Train MSE: 4.3233985581874493e-38 Test MSE: 0.004506192900586641\n",
      "KNR Train Explained Variance Score: 1.0 Test Explained Variance Score: 0.013194011067811151\n",
      "KNR Train MAE: 3.115336981700342e-21 Test MAE: 0.011197853797607998\n",
      "KNR Train Max Error: 1.3877787807814457e-17 Test Max Error: 0.8\n",
      "\n",
      "\n",
      "Lasso Nested CV results for all scores: \n",
      " {'fit_time': array([0.89884543, 1.36601043, 0.51119328, 1.02717066, 0.52334571]), 'score_time': array([0.        , 0.        , 0.00202155, 0.00201726, 0.00801969]), 'test_r2': array([0.00416588, 0.04449712, 0.01055211, 0.03522621, 0.01249481]), 'test_neg_mean_squared_error': array([-0.0034034 , -0.00489817, -0.00400433, -0.0064376 , -0.00596158]), 'test_max_error': array([-0.78532003, -0.78895084, -0.79580329, -0.80717761, -0.79571874]), 'test_neg_mean_absolute_error': array([-0.01463107, -0.01713858, -0.01475819, -0.01790921, -0.01678166])} \n",
      "\n",
      "Lasso r2 Nested CV Average 0.021387225421832246\n",
      "Lasso MSE Nested CV Average -0.004941018453122848\n",
      "Best Parameters: \n",
      "{'max_iter': 1000, 'alpha': 0.0001}\n",
      "\n",
      "Non-nested CV Results:\n",
      "Lasso Train r2: 0.04091909749436029 Test r2: 0.03262898632103728\n",
      "Lasso Train MSE: 0.004977788118058839 Test MSE: 0.004409020831587504\n",
      "Lasso Train Explained Variance Score: 0.04091909749436029 Test Explained Variance Score: 0.032693108856333475\n",
      "Lasso Train MAE: 0.016927452429183674 Test MAE: 0.015911594908093324\n",
      "Lasso Train Max Error: 0.8023117213172494 Test Max Error: 0.7899852866214371\n",
      "\n",
      "\n",
      "ElasticNet Nested CV results for all scores: \n",
      " {'fit_time': array([ 0.52395582,  0.48562741,  0.47604394,  0.48332429, 66.13626742]), 'score_time': array([0.        , 0.        , 0.00803304, 0.        , 0.04017448]), 'test_r2': array([-0.03541473,  0.04208789,  0.02552539,  0.02106247,  0.02326069]), 'test_neg_mean_squared_error': array([-0.00353867, -0.00491052, -0.00394374, -0.00653211, -0.00589659]), 'test_max_error': array([-0.84027617, -0.78959199, -0.80595918, -0.79831989, -0.79586769]), 'test_neg_mean_absolute_error': array([-0.01604469, -0.01687862, -0.01681547, -0.01734355, -0.0165719 ])} \n",
      "\n",
      "ElasticNet r2 Nested CV Average 0.015304341945812738\n",
      "ElasticNet MSE Nested CV Average -0.004964326694752675\n",
      "Best Parameters: \n",
      "{'max_iter': 5000, 'l1_ratio': 0.0, 'alpha': 0.01}\n",
      "\n",
      "Non-nested CV Results:\n",
      "ElasticNet Train r2: 0.03553559011453611 Test r2: 0.022746549259178517\n",
      "ElasticNet Train MSE: 0.005005729409558607 Test MSE: 0.00445406236193777\n",
      "ElasticNet Train Explained Variance Score: 0.03553559011453611 Test Explained Variance Score: 0.02283538179738709\n",
      "ElasticNet Train MAE: 0.016776195339553986 Test MAE: 0.01580403155882761\n",
      "ElasticNet Train Max Error: 0.7958951880926973 Test Max Error: 0.7885122963517155\n",
      "\n",
      "\n",
      "All r2 results: [array([0.62648599, 0.81467609, 0.71048585, 0.72680495, 0.79388317]), array([0.54980932, 0.75819139, 0.6243856 , 0.71054558, 0.73709718]), array([0.41697873, 0.46846215, 0.36093696, 0.47685692, 0.49268999]), array([0.31288601, 0.58588954, 0.49983625, 0.24730895, 0.56523411]), array([ 0.00293011,  0.04374389, -0.00535233,  0.02243725,  0.02061654]), array([0.00416588, 0.04449712, 0.01603693, 0.03522621, 0.03280148]), array([-0.04017026,  0.04925548,  0.02149834,  0.05018278,  0.03322164])]\n"
     ]
    },
    {
     "data": {
      "image/png": "[encoded data removed]",
      "text/plain": [
       "<Figure size 1080x648 with 1 Axes>"
      ]
     },
     "metadata": {
      "image/png": {
       "height": 546,
       "width": 887
      }
     },
     "output_type": "display_data"
    }
   ],
   "source": [
    "for name, model in models:\n",
    "    nested_cv_results = model_selection.cross_validate(model, X, Y, cv=outer_cv, scoring=scoring)\n",
    "    nested_cv_results2 = model_selection.cross_val_score(model, X, Y, cv=outer_cv, scoring='r2')\n",
    "    results.append(nested_cv_results2)\n",
    "    names.append(name)\n",
    "    print(name, 'Nested CV results for all scores:', '\\n', nested_cv_results, '\\n')\n",
    "    print(name, 'r2 Nested CV Average', np.mean(nested_cv_results['test_r2']))\n",
    "    print(name, 'MSE Nested CV Average', np.mean(nested_cv_results['test_neg_mean_squared_error'] ))\n",
    "    model.fit(X_train_boruta, Y_train_boruta)\n",
    "    print(\"Best Parameters: \\n{}\\n\".format(model.best_params_))\n",
    "    print('Non-nested CV Results:')\n",
    "    y_pred_train = model.predict(X_train)\n",
    "    y_pred = model.predict(X_test)\n",
    "    print(name, 'Train r2:', r2_score(Y_train, y_pred_train), 'Test r2:', r2_score(Y_test, y_pred))\n",
    "    print(name, 'Train MSE:', mean_squared_error(Y_train, y_pred_train), 'Test MSE:', mean_squared_error(Y_test, y_pred))\n",
    "    print(name, 'Train Explained Variance Score:', explained_variance_score(Y_train_boruta, y_pred_train), 'Test Explained Variance Score:', explained_variance_score(Y_test_boruta, y_pred))\n",
    "    print(name, 'Train MAE:', mean_absolute_error(Y_train, y_pred_train),'Test MAE:', mean_absolute_error(Y_test, y_pred))\n",
    "    print(name, 'Train Max Error:', max_error(Y_train, y_pred_train), 'Test Max Error:', max_error(Y_test, y_pred))\n",
    "    print('\\n')\n",
    "\n",
    "    \n",
    "print('All r2 results:', results)    \n",
    "\n",
    "fig = plt.figure()\n",
    "fig.suptitle('Nested Cross-Validation r2 Comparison',  y=0.92, fontsize=14, fontweight='bold')\n",
    "ax = fig.add_subplot(111)\n",
    "box=plt.boxplot(results, patch_artist=True)\n",
    "\n",
    "colors = ['blue', 'orange', 'red', 'green', 'purple', 'pink','brown']\n",
    "for patch, color in zip(box['boxes'], colors):\n",
    "    patch.set_facecolor(color)\n",
    "\n",
    "ax.set_xticklabels(names)\n",
    "plt.ylabel('r2', fontsize=12)\n",
    "plt.show()"
   ]
  }
 ],
 "metadata": {
  "kernelspec": {
   "display_name": "Python 3",
   "language": "python",
   "name": "python3"
  },
  "language_info": {
   "codemirror_mode": {
    "name": "ipython",
    "version": 3
   },
   "file_extension": ".py",
   "mimetype": "text/x-python",
   "name": "python",
   "nbconvert_exporter": "python",
   "pygments_lexer": "ipython3",
   "version": "3.7.5"
  }
 },
 "nbformat": 4,
 "nbformat_minor": 4
}
